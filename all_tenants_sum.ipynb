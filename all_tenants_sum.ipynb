{
 "cells": [
  {
   "cell_type": "code",
   "execution_count": 1,
   "metadata": {},
   "outputs": [
    {
     "name": "stdout",
     "output_type": "stream",
     "text": [
      "Aggregated Table Counts:\n",
      "\n",
      "Total Sum of Counts: 0\n"
     ]
    }
   ],
   "source": [
    "import os\n",
    "import glob\n",
    "\n",
    "def read_and_aggregate_counts(file_path):\n",
    "    \"\"\"Read a file and return a dictionary of table counts.\"\"\"\n",
    "    table_counts = {}\n",
    "    with open(file_path, 'r') as f:\n",
    "        for line in f:\n",
    "            parts = line.strip().split(': ')\n",
    "            if len(parts) == 2:\n",
    "                table, count = parts\n",
    "                table_counts[table] = table_counts.get(table, 0) + int(count)\n",
    "    return table_counts\n",
    "\n",
    "def sum_table_counts(directory_path):\n",
    "    \"\"\"Sum counts for each table across all files in the directory.\"\"\"\n",
    "    all_counts = {}\n",
    "    total_sum = 0\n",
    "\n",
    "    # List all files matching the pattern\n",
    "    file_pattern = os.path.join(directory_path, 'imported_rows_per_table_*')\n",
    "    for file_path in glob.glob(file_pattern):\n",
    "        # Aggregate counts from each file\n",
    "        file_counts = read_and_aggregate_counts(file_path)\n",
    "        for table, count in file_counts.items():\n",
    "            all_counts[table] = all_counts.get(table, 0) + count\n",
    "\n",
    "    # Calculate the total sum of counts\n",
    "    total_sum = sum(all_counts.values())\n",
    "\n",
    "    return all_counts, total_sum\n",
    "\n",
    "# Define the path to the directory (adjust as needed)\n",
    "directory_path = '/app/outputs'\n",
    "\n",
    "# Get the aggregated counts and total sum\n",
    "aggregated_counts, total_count = sum_table_counts(directory_path)\n",
    "\n",
    "# Print the results\n",
    "print(\"Aggregated Table Counts:\")\n",
    "for table, count in aggregated_counts.items():\n",
    "    print(f\"{table}: {count}\")\n",
    "print(f\"\\nTotal Sum of Counts: {total_count}\")"
   ]
  }
 ],
 "metadata": {
  "kernelspec": {
   "display_name": "Python 3",
   "language": "python",
   "name": "python3"
  },
  "language_info": {
   "codemirror_mode": {
    "name": "ipython",
    "version": 3
   },
   "file_extension": ".py",
   "mimetype": "text/x-python",
   "name": "python",
   "nbconvert_exporter": "python",
   "pygments_lexer": "ipython3",
   "version": "3.8.3"
  }
 },
 "nbformat": 4,
 "nbformat_minor": 2
}
